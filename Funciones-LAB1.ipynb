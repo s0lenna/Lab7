{
  "nbformat": 4,
  "nbformat_minor": 0,
  "metadata": {
    "colab": {
      "provenance": []
    },
    "kernelspec": {
      "name": "python3",
      "display_name": "Python 3"
    },
    "language_info": {
      "name": "python"
    }
  },
  "cells": [
    {
      "cell_type": "markdown",
      "source": [
        "**Actividad en equipos, figuras geométricas**\n",
        "\n",
        "Grupo 05\n",
        "\n",
        "Luis Diego Chavarría Chacón\n",
        "\n",
        "Alisson Steller\n",
        "\n",
        "Sofía Arias Juárez\n",
        "\n",
        "Andrés González Romero"
      ],
      "metadata": {
        "id": "Y-7d1hq7IBwD"
      }
    },
    {
      "cell_type": "code",
      "execution_count": null,
      "metadata": {
        "id": "O0ZuqINVU_3C",
        "colab": {
          "base_uri": "https://localhost:8080/"
        },
        "outputId": "ab6794c4-c5b0-464e-d8bc-e0903f136cb8"
      },
      "outputs": [
        {
          "output_type": "stream",
          "name": "stdout",
          "text": [
            "El area es:  38.48451000647496\n",
            "El perimetro:  21.991148575128552\n"
          ]
        }
      ],
      "source": [
        "import math\n",
        "\n",
        "def calcular_area_circulo(radio):\n",
        "  return math.pi * radio**2\n",
        "\n",
        "def calcular_perimetro_circulo(radio):\n",
        "  return 2*math.pi * radio\n",
        "\n",
        "radio= input(\"Digite el radio del circulo\")\n",
        "area=calcular_area_circulo(radio)\n",
        "perimetro=calcular_perimetro_circulo(radio)\n",
        "print(\"El area es: \",area)\n",
        "print(\"El perimetro: \", perimetro)"
      ]
    },
    {
      "cell_type": "code",
      "source": [
        "#Rectangulo\n",
        "\n",
        "import math\n",
        "\n",
        "def calcular_area_rectangulo(b,h):\n",
        "  return b*h\n",
        "\n",
        "def calcular_perimetro_rectangulo(b,h):\n",
        "  return 2*b+2*h\n",
        "\n",
        "base=float(input(\"Digite la base del rectangulo: \"))\n",
        "altura=float(print(\"Digite la altura del rectangulo: \"))\n",
        "area=calcular_area_rectangulo(base,altura)\n",
        "perimetro=calcular_perimetro_rectangulo(base,altura)\n",
        "print(\"El area es: \",area)\n",
        "print(\"El perimetro: \", perimetro)"
      ],
      "metadata": {
        "id": "Af4usk8E5zon",
        "outputId": "18b477dd-c434-4546-eb32-fe937e12b2c7",
        "colab": {
          "base_uri": "https://localhost:8080/"
        }
      },
      "execution_count": null,
      "outputs": [
        {
          "output_type": "stream",
          "name": "stdout",
          "text": [
            "Digite la base del rectangulo: \n",
            "None1\n",
            "Digite la altura del rectangulo: \n",
            "None2\n",
            "El area es:  2.0\n",
            "El perimetro:  6.0\n"
          ]
        }
      ]
    },
    {
      "cell_type": "code",
      "source": [
        "#Paralelogramo\n",
        "import math\n",
        "\n",
        "def calcular_area_paralelogramo(b,h):\n",
        "  return b * h\n",
        "\n",
        "def calcular_perimetro_paralelogramo(b,h):\n",
        "  return (b*2) + (h*2)\n",
        "\n",
        "base = float(input(\"Ingrese el valor de la base de el paralelogramo:\"))\n",
        "altura = float(input(\"Ingrese el valor de la altura de el paralelogramo:\"))\n",
        "\n",
        "area = calcular_area_paralelogramo(base,altura)\n",
        "perimetro = calcular_perimetro_paralelogramo(base,altura)\n",
        "\n",
        "print(\"El area es: \",area)\n",
        "print(\"El perimetro: \", perimetro)"
      ],
      "metadata": {
        "id": "pZwPHOFLSfWt",
        "colab": {
          "base_uri": "https://localhost:8080/"
        },
        "outputId": "209b6c8b-aecb-4ed9-ec25-a063779205ae"
      },
      "execution_count": null,
      "outputs": [
        {
          "output_type": "stream",
          "name": "stdout",
          "text": [
            "Ingrese el valor de la base de el paralelogramo:30\n",
            "Ingrese el valor de la altura de el paralelogramo:12\n",
            "El area es:  360.0\n",
            "El perimetro:  84.0\n"
          ]
        }
      ]
    },
    {
      "cell_type": "code",
      "source": [
        "#Triangulo\n",
        "def calcular_perimetro_triangulo(lado1, lado2, lado3):\n",
        "  return lado1 + lado2 + lado3\n",
        "\n",
        "def calcular_area_triangulo(base, altura):\n",
        "  return (base*altura)/2\n",
        "\n",
        "base = float(input(\"Ingrese la medida de la base del triángulo: \"))\n",
        "x2 = float(input(\"Ingrese la medida del lado 2 del triángulo: \"))\n",
        "x3 = float(input(\"Ingrese la medida del lado 3 del triángulo: \"))\n",
        "altura = float(input(\"Ingrese la medida de la altura del triángulo: \"))\n",
        "perimetro_triangulo = calcular_perimetro_triangulo(base, x2, x3)\n",
        "area_triangulo = calcular_area_triangulo(base, altura)\n",
        "print(\"El area es: \", area_triangulo)\n",
        "print(\"El perimetro es: \",perimetro_triangulo)\n"
      ],
      "metadata": {
        "id": "33ddL5LzQsQM",
        "colab": {
          "base_uri": "https://localhost:8080/"
        },
        "outputId": "214008d1-9413-46a6-ec0e-fd5d1fa83070"
      },
      "execution_count": null,
      "outputs": [
        {
          "output_type": "stream",
          "name": "stdout",
          "text": [
            "Ingrese la medida de la base del triángulo: 20\n",
            "Ingrese la medida del lado 2 del triángulo: 10\n",
            "Ingrese la medida del lado 3 del triángulo: 10\n",
            "Ingrese la medida de la altura del triángulo: 13\n",
            "El area es:  130.0\n",
            "El perimetro es:  40.0\n"
          ]
        }
      ]
    },
    {
      "cell_type": "code",
      "source": [
        "#Triangulo equilatero\n",
        "\n",
        "import math\n",
        "\n",
        "def calcular_area_triangulo_equilatero(x):\n",
        "  return ((x**2)*math.sqrt(3))/4\n",
        "\n",
        "def calcular_perimetro_triangulo_equilatero(x):\n",
        "  return 3*x\n",
        "\n",
        "lado=float(input(\"Digite el lado del triangulo equilatero: \"))\n",
        "area=calcular_area_triangulo_equilatero(lado)\n",
        "perimetro=calcular_perimetro_triangulo_equilatero(lado)\n",
        "print(\"El area es: \",area)\n",
        "print(\"El perimetro: \", perimetro)"
      ],
      "metadata": {
        "id": "NA8YgD8NuLC3",
        "colab": {
          "base_uri": "https://localhost:8080/"
        },
        "outputId": "0da9399d-4d2e-447a-afdc-c98df603f28a"
      },
      "execution_count": null,
      "outputs": [
        {
          "output_type": "stream",
          "name": "stdout",
          "text": [
            "Digite el lado del triangulo equilatero: 30\n",
            "El area es:  389.71143170299734\n",
            "El perimetro:  90.0\n"
          ]
        }
      ]
    },
    {
      "cell_type": "code",
      "source": [
        "#Rombo\n",
        "\n",
        "def calcular_area_rombo(d_mayor, d_menor):\n",
        "\n",
        "  if d_mayor > d_menor:\n",
        "    resultado = (d_mayor*d_menor)/2\n",
        "\n",
        "  return resultado\n",
        "\n",
        "def calcular_perimetro_rombo(lado):\n",
        "  return lado*4\n",
        "\n",
        "d_mayor = float(input(\"Digite la diagonal mayor del rombo: \"))\n",
        "d_menor = float(input(\"Digite la diagonal menor del rombo: \"))\n",
        "lado = float(input(\"Digite el lado del rombo: \"))\n",
        "\n",
        "area = calcular_area_rombo(d_mayor, d_menor)\n",
        "perimetro = calcular_perimetro_rombo(lado)\n",
        "\n",
        "print(\"El area es: \", area)\n",
        "print(\"El perimetro: \", perimetro)"
      ],
      "metadata": {
        "id": "Rn4lmV8i6oje",
        "colab": {
          "base_uri": "https://localhost:8080/"
        },
        "outputId": "95396f80-de73-4b62-82e0-24a244f4a060"
      },
      "execution_count": null,
      "outputs": [
        {
          "output_type": "stream",
          "name": "stdout",
          "text": [
            "Digite la diagonal mayor del rombo: 4\n",
            "Digite la diagonal menor del rombo: 1\n",
            "Digite el lado del rombo: 4\n",
            "El area es:  2.0\n",
            "El perimetro:  16.0\n"
          ]
        }
      ]
    },
    {
      "cell_type": "code",
      "source": [
        "#Trapecio\n",
        "def calcular_perimetro_trapecio(lado1, lado2, lado3, lado4):\n",
        "  return lado1 + lado2 + lado3 + lado4\n",
        "\n",
        "def calcular_area_trapecio(baseMayor, baseMenor, altura):\n",
        "  return ((baseMayor + baseMenor)/2)*altura\n",
        "\n",
        "baseMayor = float(input(\"Digite la medida de la base mayor: \"))\n",
        "baseMenor = float(input(\"Digite la medida de la base menor: \"))\n",
        "diagonal1 = float(input(\"Digite la medida de la diagonal derecha: \"))\n",
        "diagonal2 = float(input(\"Digite la medida de la diagonal izquierda : \"))\n",
        "altura = float(input(\"Digite la medida de la altura: \"))\n",
        "\n",
        "perimetro_trapecio = calcular_perimetro_trapecio(baseMayor, baseMenor, diagonal1, diagonal2)\n",
        "area_trapecio = calcular_area_trapecio(baseMayor, baseMenor, altura)\n",
        "\n",
        "print(\"El perimetro del trapecio es \", perimetro_trapecio)\n",
        "print(\"El area del trapecio es \", area_trapecio)\n"
      ],
      "metadata": {
        "id": "fKOtl_ef6pwN",
        "colab": {
          "base_uri": "https://localhost:8080/"
        },
        "outputId": "f6af87c8-5583-4de9-bd54-525ca17fc20e"
      },
      "execution_count": null,
      "outputs": [
        {
          "output_type": "stream",
          "name": "stdout",
          "text": [
            "Digite la medida de la base mayor: 10\n",
            "Digite la medida de la base menor: 5\n",
            "Digite la medida de la diagonal derecha: 3\n",
            "Digite la medida de la diagonal izquierda : 3\n",
            "Digite la medida de la altura: 4\n",
            "El perimetro del trapecio es  21.0\n",
            "El area del trapecio es  30.0\n"
          ]
        }
      ]
    },
    {
      "cell_type": "code",
      "source": [
        "#Poligono regular\n",
        "import math\n",
        "\n",
        "def calcular_area_poligono_regular(p,a):\n",
        "  return (p*a)/2\n",
        "\n",
        "def calcular_perimetro_poligono_regular(n,x):\n",
        "  return n*x\n",
        "\n",
        "apotema = float(input(\"Ingrese el valor de la apotema:\"))\n",
        "lado = float(input(\"Ingrese el valor del lado:\"))\n",
        "numero_lados = float(input(\"Ingrese el numero de lados:\"))\n",
        "\n",
        "perimetro = calcular_perimetro_poligono_regular(lado,numero_lados)\n",
        "area = calcular_area_poligono_regular(perimetro,apotema)\n",
        "\n",
        "print(\"El area es: \",area)\n",
        "print(\"El perimetro: \", perimetro)"
      ],
      "metadata": {
        "id": "Wj9sLTDL6ry-",
        "colab": {
          "base_uri": "https://localhost:8080/"
        },
        "outputId": "84db9222-207a-42b7-8acb-294115eb8c1a"
      },
      "execution_count": null,
      "outputs": [
        {
          "output_type": "stream",
          "name": "stdout",
          "text": [
            "Ingrese el valor de la apotema:13\n",
            "Ingrese el valor del lado:30\n",
            "Ingrese el numero de lados:5\n",
            "El area es:  975.0\n",
            "El perimetro:  150.0\n"
          ]
        }
      ]
    },
    {
      "cell_type": "code",
      "source": [
        "#cuadrado\n",
        "import math\n",
        "\n",
        "def calcular_area_cuadrado(lado):\n",
        "  return lado * lado\n",
        "\n",
        "def calcular_perimetro_cuadrado(lado):\n",
        "  return 4 * lado\n",
        "\n",
        "lado= int(input(\"Digite un valor:\"))\n",
        "area=calcular_area_cuadrado(lado)\n",
        "perimetro=calcular_perimetro_cuadrado(lado)\n",
        "print(\"El area es: \",area)\n",
        "print(\"El perimetro: \", perimetro)\n"
      ],
      "metadata": {
        "colab": {
          "base_uri": "https://localhost:8080/"
        },
        "id": "coWLdz7jirJG",
        "outputId": "7d2fe3ff-12c0-44f8-a274-ef9812dc4a91"
      },
      "execution_count": null,
      "outputs": [
        {
          "output_type": "stream",
          "name": "stdout",
          "text": [
            "Digite un valor:456\n",
            "El area es:  207936\n",
            "El perimetro:  1824\n"
          ]
        }
      ]
    }
  ]
}